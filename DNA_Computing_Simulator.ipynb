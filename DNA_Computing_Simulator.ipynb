{
  "nbformat": 4,
  "nbformat_minor": 0,
  "metadata": {
    "colab": {
      "provenance": [],
      "authorship_tag": "ABX9TyPhXpfmyTDj19nAMnRzJDOt",
      "include_colab_link": true
    },
    "kernelspec": {
      "name": "python3",
      "display_name": "Python 3"
    },
    "language_info": {
      "name": "python"
    }
  },
  "cells": [
    {
      "cell_type": "markdown",
      "metadata": {
        "id": "view-in-github",
        "colab_type": "text"
      },
      "source": [
        "<a href=\"https://colab.research.google.com/github/pachterlab/BI-1C-2024/blob/main/DNA_Computing_Simulator.ipynb\" target=\"_parent\"><img src=\"https://colab.research.google.com/assets/colab-badge.svg\" alt=\"Open In Colab\"/></a>"
      ]
    },
    {
      "cell_type": "code",
      "execution_count": 3,
      "metadata": {
        "colab": {
          "base_uri": "https://localhost:8080/"
        },
        "id": "BlgIBXRBM1Yu",
        "outputId": "1d16d9c1-e98e-4c49-ef6c-bc7f4294bf12"
      },
      "outputs": [
        {
          "output_type": "stream",
          "name": "stdout",
          "text": [
            "Vertex Strands Generated: ['GGACGGCGCT', 'TCTACTCAAC', 'GACGCTGGCA', 'AAGAGCTCAT', 'TTTGAACGAC', 'CACTCGAGCT', 'CTTTACGAAT', 'TAAGCTTGCG']\n",
            "\n",
            "Edge Strands Created: ['GGACGGCGCTTCTAC', 'GGACGGCGCTGACGC', 'GGACGGCGCTCACTC', 'TCAACGACGC', 'TCAACTAAGCTTGCG', 'TGGCAAAGAG', 'CTCATGACGC', 'CTCATCACTC', 'CTCATTTTGA', 'ACGACCACTC', 'GAGCTTCTAC', 'GAGCTCTTTA', 'CGAATTAAGCTTGCG']\n",
            "\n",
            "Complements Created: ['CCTGCCGCGA', 'AGATGAGTTG', 'CTGCGACCGT', 'TTCTCGAGTA', 'AAACTTGCTG', 'GTGAGCTCGA', 'GAAATGCTTA', 'ATTCGAACGC']\n",
            "\n",
            "Strands Created: 3497 \n",
            "\n",
            "Strands Starting at I and Ending at A: 811\n",
            "\n",
            "Strands with 8 Steps: 87\n",
            "- Already Checked for I\n",
            "- Eliminating Paths Not Including L: 72 Remaining\n",
            "- Eliminating Paths Not Including O: 72 Remaining\n",
            "- Eliminating Paths Not Including V: 72 Remaining\n",
            "- Eliminating Paths Not Including E: 41 Remaining\n",
            "- Eliminating Paths Not Including D: 41 Remaining\n",
            "- Eliminating Paths Not Including N: 33 Remaining\n",
            "- Already Checked for A\n",
            "Strands Including All Vertices >= Once: 33\n"
          ]
        }
      ],
      "source": [
        "# This code is from the DNA Computing Simulator at https://github.com/zobront/dna-computing-simulator/tree/master?tab=readme-ov-file by Zach Obront\n",
        "\n",
        "import random\n",
        "\n",
        "# STEP 0: PREP\n",
        "def generate_vertex_strands(V, K, pairings):\n",
        "    random.seed(0)  # For reproducibility\n",
        "    return [''.join([random.choice(list(pairings.keys())) for _ in range(K)]) for _ in range(V)]\n",
        "\n",
        "def find_edge_strands(vertices, edges, K):\n",
        "    edge_strands = [vertices[v1][(K//2):] + vertices[v2][:(K//2)] for (v1, v2) in edges]\n",
        "    return [strand.replace(vertices[0][-(K//2):], vertices[0]).replace(vertices[-1][:(K//2)], vertices[-1]) for strand in edge_strands]\n",
        "\n",
        "def find_complement(strand, pairings):\n",
        "    return \"\".join([pairings[nuc] for nuc in strand])\n",
        "\n",
        "# Initial Setup\n",
        "vertex_names = ['I', 'L', 'O', 'V', 'E', 'D', 'N', 'A']\n",
        "V = len(vertex_names)\n",
        "edges = [(0, 1), (0, 2), (0, 5), (1, 2), (1, 7), (2, 3), (3, 2), (3, 5), (3, 4), (4, 5), (5, 1), (5, 6), (6, 7)]\n",
        "pairings = {'A': 'T', 'T': 'A', 'C': 'G', 'G': 'C'}\n",
        "K = 10\n",
        "\n",
        "vertex_strands = generate_vertex_strands(V, K, pairings)\n",
        "print(f\"Vertex Strands Generated: {vertex_strands}\")\n",
        "\n",
        "edge_strands = find_edge_strands(vertex_strands, edges, K)\n",
        "print(f\"\\nEdge Strands Created: {edge_strands}\")\n",
        "\n",
        "complements = [find_complement(v, pairings) for v in vertex_strands]\n",
        "print(f\"\\nComplements Created: {complements}\")\n",
        "\n",
        "# STEP 1: CREATE RANDOM PATHS\n",
        "def create_random_paths(edge_strands, K, complements, vertex_strands):\n",
        "    all_edges = edge_strands * 10000\n",
        "    random.shuffle(all_edges)\n",
        "\n",
        "    path_strands = []\n",
        "    growing_strand = \"\"\n",
        "\n",
        "    for s in all_edges:\n",
        "        if len(growing_strand) == 0:\n",
        "            growing_strand += s\n",
        "        else:\n",
        "            target_comp = find_complement(growing_strand[-(K//2):], pairings) + find_complement(s[:(K//2)], pairings)\n",
        "            if target_comp in complements:\n",
        "                growing_strand += s\n",
        "\n",
        "        if growing_strand[-K:] == vertex_strands[-1]:\n",
        "            path_strands.append(growing_strand)\n",
        "            growing_strand = \"\"\n",
        "\n",
        "    return path_strands\n",
        "\n",
        "path_strands = create_random_paths(edge_strands, K, complements, vertex_strands)\n",
        "print(f\"\\nStrands Created: {len(path_strands)} \")\n",
        "\n",
        "# STEP 2: REMOVE PATHS WITHOUT CORRECT START & END\n",
        "in_and_out_strands = [path for path in path_strands if path[:K] == vertex_strands[0] and path[-K:] == vertex_strands[-1]]\n",
        "print(f\"\\nStrands Starting at {vertex_names[0]} and Ending at {vertex_names[V-1]}: {len(in_and_out_strands)}\")\n",
        "\n",
        "# STEP 3: KEEP ONLY PATHS WITH N VERTICES\n",
        "n_step_paths = [path for path in in_and_out_strands if len(path) == V * K]\n",
        "print(f\"\\nStrands with {V} Steps: {len(n_step_paths)}\")\n",
        "\n",
        "# STEP 4: KEEP ONLY PATHS THAT TOUCH EACH VERTEX AT LEAST ONCE\n",
        "def filter_paths(paths, vertex_strands, vertex_names):\n",
        "    included = paths\n",
        "    for i in range(len(vertex_strands)):\n",
        "        included = [path for path in included if vertex_strands[i] in path]\n",
        "        if i == 0 or i == len(vertex_strands) - 1:\n",
        "            print(f\"- Already Checked for {vertex_names[i]}\")\n",
        "        else:\n",
        "            print(f\"- Eliminating Paths Not Including {vertex_names[i]}: {len(included)} Remaining\")\n",
        "    return included\n",
        "\n",
        "included = filter_paths(n_step_paths, vertex_strands, vertex_names)\n",
        "print(f\"Strands Including All Vertices >= Once: {len(included)}\")\n",
        "\n",
        "# STEP 5: EXTRACT ANY PATHS THAT REMAIN\n",
        "def decode_solution(solution, vertex_strands, vertex_names):\n",
        "    path = []\n",
        "    for i in range(0, len(solution), K):\n",
        "        vertex_strand = solution[i:i+K]\n",
        "        vertex_num = vertex\n"
      ]
    },
    {
      "cell_type": "code",
      "source": [],
      "metadata": {
        "id": "KPEjtF41NAB-"
      },
      "execution_count": null,
      "outputs": []
    }
  ]
}