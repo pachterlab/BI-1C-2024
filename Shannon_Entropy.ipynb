{
  "nbformat": 4,
  "nbformat_minor": 0,
  "metadata": {
    "colab": {
      "provenance": [],
      "authorship_tag": "ABX9TyNEMn4O5sr6fHPvuYzbyykG",
      "include_colab_link": true
    },
    "kernelspec": {
      "name": "python3",
      "display_name": "Python 3"
    },
    "language_info": {
      "name": "python"
    }
  },
  "cells": [
    {
      "cell_type": "markdown",
      "metadata": {
        "id": "view-in-github",
        "colab_type": "text"
      },
      "source": [
        "<a href=\"https://colab.research.google.com/github/pachterlab/BI-1C-2024/blob/main/Shannon_Entropy.ipynb\" target=\"_parent\"><img src=\"https://colab.research.google.com/assets/colab-badge.svg\" alt=\"Open In Colab\"/></a>"
      ]
    },
    {
      "cell_type": "code",
      "execution_count": 13,
      "metadata": {
        "id": "0vSHIuFlSUQ-"
      },
      "outputs": [],
      "source": [
        "# DNA Sequence Entropy Calculator\n",
        "\n",
        "def clean_sequence(sequence):\n",
        "    \"\"\"Remove non-nucleotide characters from the sequence.\"\"\"\n",
        "    return ''.join(filter(lambda x: x in 'ATCG', sequence.upper()))\n",
        "\n",
        "def calculate_nucleotide_frequencies(sequence):\n",
        "    \"\"\"Calculate the frequency of each nucleotide in the sequence.\"\"\"\n",
        "    frequencies = {'A': 0, 'T': 0, 'C': 0, 'G': 0}\n",
        "    total = len(sequence)\n",
        "    for nucleotide in sequence:\n",
        "        if nucleotide in frequencies:\n",
        "            frequencies[nucleotide] += 1\n",
        "    for nucleotide in frequencies:\n",
        "        frequencies[nucleotide] /= total\n",
        "    return frequencies\n",
        "\n",
        "def calculate_shannon_entropy(frequencies):\n",
        "    \"\"\"Calculate the Shannon entropy from nucleotide frequencies.\"\"\"\n",
        "    import math\n",
        "    entropy = 0\n",
        "    for frequency in frequencies.values():\n",
        "        if frequency > 0:\n",
        "            entropy -= frequency * math.log2(frequency)\n",
        "    return entropy\n",
        "\n",
        "# Paste your DNA sequence here\n",
        "dna_sequence = \"\"\"YOUR_DNA_SEQUENCE_HERE\"\"\"\n",
        "\n",
        "# Clean the sequence to remove linebreaks and non-nucleotide characters\n",
        "cleaned_sequence = clean_sequence(dna_sequence)\n",
        "\n",
        "# Calculate nucleotide frequencies and Shannon entropy\n",
        "frequencies = calculate_nucleotide_frequencies(cleaned_sequence)\n",
        "entropy = calculate_shannon_entropy(frequencies)\n",
        "\n",
        "print(\"Nucleotide Frequencies:\", frequencies)\n",
        "print(\"Shannon Entropy:\", entropy)\n"
      ]
    },
    {
      "cell_type": "code",
      "source": [],
      "metadata": {
        "id": "U-8w9HWoSZdE"
      },
      "execution_count": 2,
      "outputs": []
    }
  ]
}